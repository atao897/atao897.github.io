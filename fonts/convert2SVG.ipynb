{
 "cells": [
  {
   "cell_type": "code",
   "execution_count": 29,
   "metadata": {},
   "outputs": [
    {
     "name": "stdout",
     "output_type": "stream",
     "text": [
      "<svg><path d='M0 0H200V1000H0Z' /></svg>\n",
      "<svg><path d='M200 0V124H144V1000H0V876H58V124H0V0Z' /></svg>\n",
      "<svg><path d='M200 0V120H67C92 304 170 342 200 512V876C181 963 143 1000 90 1000C61 1000 27 987 0 971V824H27C27 877 59 916 86 916C104 901 117 830 117 701C117 669 115 571 102 499C86 405 38 345 0 234V0Z' /></svg>\n",
      "<svg><path d='M0 0H200V1000H0V876H104V561H0V437H104V124H0Z' /></svg>\n",
      "<svg><path d='M200 0V1000H158L0 561V437H99V0Z' /></svg>\n",
      "<svg><path d='M0 0H200V558H97V876H200V1000H0V437H104V124H0Z' /></svg>\n",
      "<svg><path d='M200 558H98V876H200V1000H0V0H200Z' /></svg>\n",
      "<svg><path d='M0 437V0H87V437L200 801V1000H1V876H134Z' /></svg>\n",
      "<svg><path d='M200 0V401H123V625H200V1000H0V625H77V401H0V0Z' /></svg>\n",
      "<svg><path d='M0 0H200V1000H0V442H102V124H0Z' /></svg>\n",
      "<svg><path d='M47 124V0H153V124H200V558H97V752H200V876H153V1000H47V876H0V437H102V249H0V124Z' /></svg>\n"
     ]
    }
   ],
   "source": [
    "from fontTools.ttLib import TTFont\n",
    "from fontTools.pens.svgPathPen import SVGPathPen\n",
    "\n",
    "def glyph_to_svg(font_path, glyph_name):\n",
    "    # Load the font\n",
    "    font = TTFont(font_path)\n",
    "    \n",
    "    # Check if the glyph is in the font\n",
    "    if glyph_name not in font.getGlyphSet():\n",
    "        return None\n",
    "    \n",
    "    # print(font.getGlyphSet().keys())\n",
    "    glyph = font.getGlyphSet()[glyph_name]\n",
    "    \n",
    "    # Convert the glyph to SVG path data\n",
    "    pen = SVGPathPen(font.getGlyphSet())\n",
    "    glyph.draw(pen)\n",
    "    return f\"<svg><path d='{pen.getCommands()}' /></svg>\"\n",
    "\n",
    "# Example usage\n",
    "font_path = \"Pelli.otf\"\n",
    "glyph_names = ['zero', 'one', 'two', 'three', 'four', 'five', 'six', 'seven', 'eight', 'nine','dollar']\n",
    "for glyph_name in glyph_names: \n",
    "    svg_output = glyph_to_svg(font_path, glyph_name)\n",
    "    print(svg_output)\n",
    "    if svg_output:\n",
    "        with open(f\"./Pelli/{glyph_name}.svg\", \"w\") as f:\n",
    "            f.write('<?xml version=\"1.0\" encoding=\"UTF-8\"?> <svg xmlns=\"http://www.w3.org/2000/svg\" viewBox=\"0 0 200 1000\"><path transform=\"scale(1,-1) translate(0,-1000)\" d=\"' + svg_output.split(\"'\")[1] + '\" fill=\"#000\" /></svg>')\n"
   ]
  },
  {
   "cell_type": "code",
   "execution_count": 28,
   "metadata": {},
   "outputs": [
    {
     "name": "stdout",
     "output_type": "stream",
     "text": [
      "<svg><path d='M990 400H782C740 284 630 200 500 200C336 200 200 336 200 500C200 664 336 800 500 800C630 800 740 716 782 600H990C944 828 742 1000 500 1000C224 1000 0 776 0 500C0 224 224 0 500 0C742 0 944 172 990 400Z' /></svg>\n",
      "<svg><path d='M1000 400V600C1000 820 820 1000 600 1000H0V0H600C820 0 1000 180 1000 400ZM800 400C800 290 710 200 600 200H200V800H600C710 800 800 710 800 600Z' /></svg>\n",
      "<svg><path d='M1000 0V1000H800V600H200V1000H0V0H200V400H800V0Z' /></svg>\n",
      "<svg><path d='M574 678 1000 1000H668L200 646V1000H0V0H200V396L402 548L746 0H1000L574 678Z' /></svg>\n",
      "<svg><path d='M1000 0V1000H800V308L200 1000H0V0H200V692L800 0Z' /></svg>\n",
      "<svg><path d='M1000 500C1000 776 776 1000 500 1000C224 1000 0 776 0 500C0 224 224 0 500 0C776 0 1000 224 1000 500ZM800 500C800 336 664 200 500 200C336 200 200 336 200 500C200 664 336 800 500 800C664 800 800 664 800 500Z' /></svg>\n",
      "<svg><path d='M1000 0 818 424C926 470 1000 576 1000 700C1000 866 866 1000 700 1000H0V0H200V400H612L782 0ZM800 700C800 646 756 600 700 600H200V800H700C756 800 800 754 800 700Z' /></svg>\n",
      "<svg><path d='M1000 700C1000 780 960 856 918 904H916C840 990 748 1000 700 1000H300C198 1000 134 950 96 914C-26 800 -36 604 96 484C138 446 208 400 300 400H700C718 400 758 390 778 366C814 324 808 258 766 224C746 208 712 200 700 200H300C260 200 246 206 226 226C206 246 200 270 200 300H0C0 230 24 144 90 82C152 24 224 0 300 0H700C808 0 858 32 918 100C1028 222 1029 409 904 518C869 549 802 600 700 600H300C272 600 242 612 224 636C194 674 197 730 228 766C247 788 282 800 300 800H700C712 800 764 776 764 776C764 776 800 744 800 700Z' /></svg>\n",
      "<svg><path d='M1000 1000H784L500 288L216 1000H0L400 0H600Z' /></svg>\n",
      "<svg><path d='M1000 0V200H308L1000 800V1000H0V800H692L0 200V0Z' /></svg>\n"
     ]
    }
   ],
   "source": [
    "from fontTools.ttLib import TTFont\n",
    "from fontTools.pens.svgPathPen import SVGPathPen\n",
    "\n",
    "def glyph_to_svg(font_path, glyph_name):\n",
    "    # Load the font\n",
    "    font = TTFont(font_path)\n",
    "    \n",
    "    # Check if the glyph is in the font\n",
    "    if glyph_name not in font.getGlyphSet():\n",
    "        return None\n",
    "    \n",
    "    # print(font.getGlyphSet().keys())\n",
    "    glyph = font.getGlyphSet()[glyph_name]\n",
    "    \n",
    "    # Convert the glyph to SVG path data\n",
    "    pen = SVGPathPen(font.getGlyphSet())\n",
    "    glyph.draw(pen)\n",
    "    return f\"<svg><path d='{pen.getCommands()}' /></svg>\"\n",
    "\n",
    "# Example usage\n",
    "font_path = \"Sloan.otf\"\n",
    "glyph_names = ['C', 'D', 'H', 'K', 'N', 'O', 'R', 'S', 'V','Z']\n",
    "for glyph_name in glyph_names: \n",
    "    svg_output = glyph_to_svg(font_path, glyph_name)\n",
    "    print(svg_output)\n",
    "    if svg_output:\n",
    "        with open(f\"./Sloan/{glyph_name}.svg\", \"w\") as f:\n",
    "            f.write('<?xml version=\"1.0\" encoding=\"UTF-8\"?> <svg xmlns=\"http://www.w3.org/2000/svg\" viewBox=\"0 0 990 1000\"><path transform=\"scale(1,-1) translate(0,-1000)\" d=\"' + svg_output.split(\"'\")[1] + '\" fill=\"#000\" /></svg>')\n"
   ]
  }
 ],
 "metadata": {
  "kernelspec": {
   "display_name": "beckhoff",
   "language": "python",
   "name": "python3"
  },
  "language_info": {
   "codemirror_mode": {
    "name": "ipython",
    "version": 3
   },
   "file_extension": ".py",
   "mimetype": "text/x-python",
   "name": "python",
   "nbconvert_exporter": "python",
   "pygments_lexer": "ipython3",
   "version": "3.7.13"
  }
 },
 "nbformat": 4,
 "nbformat_minor": 2
}
